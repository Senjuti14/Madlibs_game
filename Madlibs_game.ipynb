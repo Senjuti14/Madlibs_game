{
 "cells": [
  {
   "cell_type": "code",
   "execution_count": null,
   "metadata": {},
   "outputs": [],
   "source": [
    "#Madlibs game in Python\n",
    "\n",
    "adjective1= input(\"Enter an adjective:\")\n",
    "adjective2= input(\"Enter an adjective:\")\n",
    "verb1= input(\"Enter a verb:\")\n",
    "verb2= input(\"Enter a verb:\")\n",
    "adjective3= input(\"Enter an adjective:\")\n",
    "\n",
    "mad_libs= f\"Hello! This has been a {adjective1} week. The weather was {adjective2} to do some {verb1}. I have enjoyed to {verb2} as well. Always be {adjective3}!\"\n",
    "print(mad_libs)"
   ]
  },
  {
   "cell_type": "code",
   "execution_count": null,
   "metadata": {},
   "outputs": [],
   "source": []
  }
 ],
 "metadata": {
  "kernelspec": {
   "display_name": "Python 3",
   "language": "python",
   "name": "python3"
  },
  "language_info": {
   "codemirror_mode": {
    "name": "ipython",
    "version": 3
   },
   "file_extension": ".py",
   "mimetype": "text/x-python",
   "name": "python",
   "nbconvert_exporter": "python",
   "pygments_lexer": "ipython3",
   "version": "3.7.6"
  }
 },
 "nbformat": 4,
 "nbformat_minor": 4
}
